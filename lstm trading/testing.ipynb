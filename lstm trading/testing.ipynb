{
 "cells": [
  {
   "cell_type": "code",
   "execution_count": null,
   "metadata": {},
   "outputs": [],
   "source": [
    "import torch\n",
    "import torch.nn as nn\n",
    "from torch.utils.data import Dataset\n",
    "\n",
    "import torchvision\n",
    "import torchvision.models as models\n",
    "from torchvision import *\n",
    "from torchvision import datasets\n",
    "from torchvision.models.feature_extraction import create_feature_extractor\n",
    "\n",
    "from torchmetrics import *\n",
    "\n",
    "from torch.utils.data import *\n",
    "\n",
    "import sklearn as sk\n",
    "from sklearn import *\n",
    "from sklearn import svm\n",
    "from sklearn.preprocessing import MinMaxScaler\n",
    "\n",
    "import pandas as pd\n",
    "\n",
    "from itertools import compress\n",
    "\n",
    "\n",
    "import matplotlib.pyplot as plt\n",
    "\n",
    "\n",
    "import yfinance as yf\n"
   ]
  },
  {
   "cell_type": "code",
   "execution_count": null,
   "metadata": {},
   "outputs": [],
   "source": [
    "# time step to predict ahead, creates input sequences\n",
    "# gonna have to figure out test\n",
    "def create_lstm_data(data, time_step=1, future = 0,test_percent = .1):\n",
    "    x_vec, y_vec = [], []\n",
    "    # formats data so y = t and x = t-1, ... , t-time_steps\n",
    "    for i in range(len(data) - time_step):\n",
    "        split = i + time_step\n",
    "        # checks if data is of same length for concatentation\n",
    "        length = data[split : split + future, 0].shape[0]\n",
    "        if(length == future):\n",
    "            x_vec.append(data[i : split, 0].unsqueeze(0))\n",
    "            y_vec.append(data[split : split + future, 0].unsqueeze(0))\n",
    "    # calculate number of elements to allocate to test\n",
    "    #dataset_length = len(x_vec)\n",
    "    #num_of_train = dataset_length - (int)(test_percent * dataset_length)\n",
    "    # concats x into matrix and y into vector, needs unsqueez to add single dimension for LSTM\n",
    "    return torch.cat(x_vec,0).unsqueeze(-1), torch.cat(y_vec,0).unsqueeze(-1)#, torch.cat(x_vec[num_of_train:],0).unsqueeze(-1), torch.cat(y_vec[num_of_train:],0).unsqueeze(-1)\n",
    "\n",
    "# create a dataset out of timeseries data, must be formatted first, tensor\n",
    "# correct timeseries formatation\n",
    "class TimeSeriesDataset(Dataset):\n",
    "    def __init__(self, X, y):\n",
    "        self.X = X\n",
    "        self.y = y\n",
    "    \n",
    "    def __len__(self):\n",
    "        return len(self.X)\n",
    "    \n",
    "    def __getitem__(self,i):\n",
    "        return self.X[i], self.y[i]\n",
    "    "
   ]
  },
  {
   "cell_type": "code",
   "execution_count": null,
   "metadata": {},
   "outputs": [],
   "source": [
    "class Encoder(nn.Module):\n",
    "    def __init__(self, input_dim, hidden_dim, n_layers, dropout = 0.5):\n",
    "        super(Encoder,self).__init__()\n",
    "        self.hidden_dim = hidden_dim\n",
    "        self.n_layers = n_layers\n",
    "        self.input_dim = input_dim\n",
    "        self.rnn = nn.LSTM(input_dim, hidden_dim, n_layers, dropout=dropout,\n",
    "                           batch_first=True, bidirectional = True)\n",
    "        \n",
    "        #to choose part of birdectinals were important\n",
    "        self.fc_hidden = nn.Linear(hidden_dim*2, hidden_dim)\n",
    "        self.fc_cell = nn.Linear(hidden_dim*2, hidden_dim)\n",
    "\n",
    "    def forward(self, x):\n",
    "        \n",
    "        outputs, (hidden, cell) = self.rnn(x)\n",
    "        #print(x.shape)\n",
    "        print(hidden.view(-1,64,self.hidden_dim).shape)\n",
    "        \n",
    "\n",
    "        #chooses which way of directionsal is most important\n",
    "        hidden = self.fc_hidden(torch.cat((hidden[0:1],hidden[1:2]), dim = 2))\n",
    "        cell = self.fc_cell(torch.cat((cell[0:1],cell[1:2]), dim = 2))\n",
    "        #print(hidden.shape)\n",
    "        return hidden, cell"
   ]
  },
  {
   "cell_type": "code",
   "execution_count": null,
   "metadata": {},
   "outputs": [],
   "source": [
    "# Download stock data from Yahoo Finance\n",
    "hmc_data = yf.download('HMC', period='10y')['Close']\n",
    "hymtf_data = yf.download('HYMTF', period='10y')['Close']\n",
    "# get spread\n",
    "spread = hmc_data - hymtf_data\n",
    "spread = spread.values.reshape(-1,1)"
   ]
  },
  {
   "cell_type": "code",
   "execution_count": null,
   "metadata": {},
   "outputs": [],
   "source": [
    "#parameters for data\n",
    "BATCH_SIZE = 64\n",
    "input_size = 30\n",
    "output_size = 60"
   ]
  },
  {
   "cell_type": "code",
   "execution_count": null,
   "metadata": {},
   "outputs": [],
   "source": [
    "scaler = MinMaxScaler(feature_range=(0,1))\n",
    "#transforms/normalizes data and converts it to a tensor\n",
    "normalized_data = torch.tensor(scaler.fit_transform(spread))\n",
    "X_train, y_train = create_lstm_data(normalized_data, input_size, output_size)\n",
    "#creates dataset\n",
    "train_dataset = TimeSeriesDataset(X_train,y_train)\n",
    "#test_dataset = TimeSeriesDataset(X_test,y_test)\n",
    "#puts dataset into dataloader\n",
    "train_dataloader = DataLoader(dataset = train_dataset, batch_size = BATCH_SIZE)\n",
    "#test_dataloader = DataLoader(dataset = test_dataset, batch_size = BATCH_SIZE)"
   ]
  },
  {
   "cell_type": "code",
   "execution_count": null,
   "metadata": {},
   "outputs": [],
   "source": [
    "input_dim = 1\n",
    "num_layers = 1\n",
    "hidden_size = 16\n",
    "dropout = 0.5\n",
    "teacher_forcing = 0.2\n",
    "\n",
    "\n",
    "device = device = 'cuda' if torch.cuda.is_available() else 'cpu'\n",
    "encoder = Encoder(input_dim,num_layers,hidden_size,dropout)"
   ]
  },
  {
   "cell_type": "code",
   "execution_count": null,
   "metadata": {},
   "outputs": [],
   "source": [
    "encoder()"
   ]
  }
 ],
 "metadata": {
  "language_info": {
   "name": "python"
  }
 },
 "nbformat": 4,
 "nbformat_minor": 2
}
