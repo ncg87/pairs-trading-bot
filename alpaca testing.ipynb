{
 "cells": [
  {
   "cell_type": "markdown",
   "metadata": {},
   "source": [
    "Import Packages"
   ]
  },
  {
   "cell_type": "code",
   "execution_count": 1,
   "metadata": {},
   "outputs": [],
   "source": [
    "\n",
    "# Need torch to load the model\n",
    "import torch\n",
    "# Model that is being used\n",
    "from model import EncoderDecoderWrapper, Encoder, Decoder\n",
    "\n",
    "# Used to work with/make HTTP requests\n",
    "import requests\n",
    "# Used to send/transfer data over a network\n",
    "import json\n",
    "# Used to grab data from specified time periods\n",
    "import datetime\n",
    "# Used to sort through data\n",
    "import pandas as pd\n",
    "\n",
    "# \n",
    "import alpaca_trade_api as tradeapi\n",
    "import threading\n",
    "import time\n",
    "import websocket\n",
    "#from alpaca_trade_api import StreamConn\n",
    "from alpaca_trade_api.common import URL\n",
    "import asyncio\n",
    "import matplotlib.pyplot as plt\n",
    "#\n",
    "from alpaca.data import StockHistoricalDataClient, TimeFrame\n",
    "from alpaca.data.requests import StockQuotesRequest, StockBarsRequest"
   ]
  },
  {
   "cell_type": "markdown",
   "metadata": {},
   "source": [
    "Load Model"
   ]
  },
  {
   "cell_type": "code",
   "execution_count": 2,
   "metadata": {},
   "outputs": [],
   "source": [
    "# Load mode onto GPU if CUDA is avaliable else load onto CPU\n",
    "if torch.cuda.is_available():\n",
    "    model = torch.load(\"./PairsTradingModel\")\n",
    "else:\n",
    "    model = torch.load(\"./PairsTradingModel\", map_location=torch.device('cpu'))"
   ]
  },
  {
   "cell_type": "code",
   "execution_count": 3,
   "metadata": {},
   "outputs": [],
   "source": [
    "model = torch.load(\"./PairsTradingModel\", map_location=torch.device('cpu'))"
   ]
  },
  {
   "cell_type": "markdown",
   "metadata": {},
   "source": [
    "Global Variables"
   ]
  },
  {
   "cell_type": "code",
   "execution_count": 4,
   "metadata": {},
   "outputs": [],
   "source": [
    "# Keys needs to verify/authenticate API and identify self\n",
    "# JSON parse the strings into a dictionaty\n",
    "HEADERS = json.loads(open(\"./auth.txt\", 'r').read())\n",
    "ALPACA_KEY_ID = HEADERS['APCA-API-KEY-ID']\n",
    "ALPACA_SECRET_KEY = HEADERS['APCA-API-SECRET-KEY']\n",
    "# URL needed to take action in the api\n",
    "BASE_URL = 'https://paper-api.alpaca.markets/'\n",
    "# Handles orders \n",
    "ORDERS_URL = f'{BASE_URL}v2/orders'\n",
    "# Tells API that all trades will be on paper\n",
    "ALPACA_PAPER = True\n",
    "\n",
    "api = tradeapi.REST(ALPACA_KEY_ID,ALPACA_SECRET_KEY, base_url=BASE_URL, api_version = 'v2')"
   ]
  },
  {
   "cell_type": "markdown",
   "metadata": {},
   "source": [
    "Methods"
   ]
  },
  {
   "cell_type": "code",
   "execution_count": 5,
   "metadata": {},
   "outputs": [],
   "source": [
    "# Method to place an order through alpaca api\n",
    "def send_order(symbol, qty, side, type = 'market', time_in_force = 'gtc'):\n",
    "\t# Creates data structure to be sent over the network\n",
    "\tdata ={\n",
    "\t'symbol': symbol,\n",
    "\t'qty': qty,\n",
    "\t'side': side,\n",
    "\t'type': type,\n",
    "\t'time_in_force': time_in_force,\n",
    "\t}\n",
    "\t# Sends/posts data(json) to website (ORDERS_URL), with extra context/headers/identification(headers)\n",
    "\tr = requests.post(ORDERS_URL, json=data, headers = HEADERS)\n",
    "\tprint(r)\n",
    "\treturn json.loads(r.content)"
   ]
  },
  {
   "cell_type": "code",
   "execution_count": 6,
   "metadata": {},
   "outputs": [],
   "source": [
    "# Setting up own \n",
    "api = tradeapi.REST(ALPACA_KEY_ID,ALPACA_SECRET_KEY, base_url=BASE_URL)"
   ]
  },
  {
   "cell_type": "markdown",
   "metadata": {},
   "source": [
    "Alpaca API Testing"
   ]
  },
  {
   "cell_type": "code",
   "execution_count": 7,
   "metadata": {},
   "outputs": [],
   "source": [
    "# Instantiate a data client\n",
    "data_client = StockHistoricalDataClient(ALPACA_KEY_ID, ALPACA_SECRET_KEY)\n",
    "\n",
    "# Set start time\n",
    "start_time = pd.to_datetime(\"2024-02-01\").tz_localize('America/New_York')\n",
    "# Stocks to get data from\n",
    "request_params = StockBarsRequest(\n",
    "    symbol_or_symbols=['HYMTF','HMC'],\n",
    "    timeframe=TimeFrame.Day,\n",
    "    start=start_time\n",
    "    )\n",
    "\n",
    "bars_df = data_client.get_stock_bars(request_params).df.tz_convert('America/New_York', level=1)"
   ]
  },
  {
   "cell_type": "code",
   "execution_count": 8,
   "metadata": {},
   "outputs": [],
   "source": [
    "# Reverse the order of data so that most recent occurs first\n",
    "d = bars_df['close'].iloc[::-1]"
   ]
  },
  {
   "cell_type": "code",
   "execution_count": 9,
   "metadata": {},
   "outputs": [
    {
     "ename": "RuntimeError",
     "evalue": "Found no NVIDIA driver on your system. Please check that you have an NVIDIA GPU and installed a driver from http://www.nvidia.com/Download/index.aspx",
     "output_type": "error",
     "traceback": [
      "\u001b[1;31m---------------------------------------------------------------------------\u001b[0m",
      "\u001b[1;31mRuntimeError\u001b[0m                              Traceback (most recent call last)",
      "Cell \u001b[1;32mIn[9], line 49\u001b[0m\n\u001b[0;32m     47\u001b[0m model\u001b[38;5;241m.\u001b[39mto(device)\u001b[38;5;241m.\u001b[39meval()\n\u001b[0;32m     48\u001b[0m \u001b[38;5;28;01mwith\u001b[39;00m torch\u001b[38;5;241m.\u001b[39minference_mode():\n\u001b[1;32m---> 49\u001b[0m     output_data \u001b[38;5;241m=\u001b[39m \u001b[43mmodel\u001b[49m\u001b[43m(\u001b[49m\u001b[43minput_data\u001b[49m\u001b[43m)\u001b[49m\n",
      "File \u001b[1;32m~\\AppData\\Local\\Packages\\PythonSoftwareFoundation.Python.3.11_qbz5n2kfra8p0\\LocalCache\\local-packages\\Python311\\site-packages\\torch\\nn\\modules\\module.py:1532\u001b[0m, in \u001b[0;36mModule._wrapped_call_impl\u001b[1;34m(self, *args, **kwargs)\u001b[0m\n\u001b[0;32m   1530\u001b[0m     \u001b[38;5;28;01mreturn\u001b[39;00m \u001b[38;5;28mself\u001b[39m\u001b[38;5;241m.\u001b[39m_compiled_call_impl(\u001b[38;5;241m*\u001b[39margs, \u001b[38;5;241m*\u001b[39m\u001b[38;5;241m*\u001b[39mkwargs)  \u001b[38;5;66;03m# type: ignore[misc]\u001b[39;00m\n\u001b[0;32m   1531\u001b[0m \u001b[38;5;28;01melse\u001b[39;00m:\n\u001b[1;32m-> 1532\u001b[0m     \u001b[38;5;28;01mreturn\u001b[39;00m \u001b[38;5;28;43mself\u001b[39;49m\u001b[38;5;241;43m.\u001b[39;49m\u001b[43m_call_impl\u001b[49m\u001b[43m(\u001b[49m\u001b[38;5;241;43m*\u001b[39;49m\u001b[43margs\u001b[49m\u001b[43m,\u001b[49m\u001b[43m \u001b[49m\u001b[38;5;241;43m*\u001b[39;49m\u001b[38;5;241;43m*\u001b[39;49m\u001b[43mkwargs\u001b[49m\u001b[43m)\u001b[49m\n",
      "File \u001b[1;32m~\\AppData\\Local\\Packages\\PythonSoftwareFoundation.Python.3.11_qbz5n2kfra8p0\\LocalCache\\local-packages\\Python311\\site-packages\\torch\\nn\\modules\\module.py:1541\u001b[0m, in \u001b[0;36mModule._call_impl\u001b[1;34m(self, *args, **kwargs)\u001b[0m\n\u001b[0;32m   1536\u001b[0m \u001b[38;5;66;03m# If we don't have any hooks, we want to skip the rest of the logic in\u001b[39;00m\n\u001b[0;32m   1537\u001b[0m \u001b[38;5;66;03m# this function, and just call forward.\u001b[39;00m\n\u001b[0;32m   1538\u001b[0m \u001b[38;5;28;01mif\u001b[39;00m \u001b[38;5;129;01mnot\u001b[39;00m (\u001b[38;5;28mself\u001b[39m\u001b[38;5;241m.\u001b[39m_backward_hooks \u001b[38;5;129;01mor\u001b[39;00m \u001b[38;5;28mself\u001b[39m\u001b[38;5;241m.\u001b[39m_backward_pre_hooks \u001b[38;5;129;01mor\u001b[39;00m \u001b[38;5;28mself\u001b[39m\u001b[38;5;241m.\u001b[39m_forward_hooks \u001b[38;5;129;01mor\u001b[39;00m \u001b[38;5;28mself\u001b[39m\u001b[38;5;241m.\u001b[39m_forward_pre_hooks\n\u001b[0;32m   1539\u001b[0m         \u001b[38;5;129;01mor\u001b[39;00m _global_backward_pre_hooks \u001b[38;5;129;01mor\u001b[39;00m _global_backward_hooks\n\u001b[0;32m   1540\u001b[0m         \u001b[38;5;129;01mor\u001b[39;00m _global_forward_hooks \u001b[38;5;129;01mor\u001b[39;00m _global_forward_pre_hooks):\n\u001b[1;32m-> 1541\u001b[0m     \u001b[38;5;28;01mreturn\u001b[39;00m \u001b[43mforward_call\u001b[49m\u001b[43m(\u001b[49m\u001b[38;5;241;43m*\u001b[39;49m\u001b[43margs\u001b[49m\u001b[43m,\u001b[49m\u001b[43m \u001b[49m\u001b[38;5;241;43m*\u001b[39;49m\u001b[38;5;241;43m*\u001b[39;49m\u001b[43mkwargs\u001b[49m\u001b[43m)\u001b[49m\n\u001b[0;32m   1543\u001b[0m \u001b[38;5;28;01mtry\u001b[39;00m:\n\u001b[0;32m   1544\u001b[0m     result \u001b[38;5;241m=\u001b[39m \u001b[38;5;28;01mNone\u001b[39;00m\n",
      "File \u001b[1;32mc:\\Users\\Nicko\\vscodeprojects\\deep_learning_practice\\pairs trading bot\\model.py:66\u001b[0m, in \u001b[0;36mEncoderDecoderWrapper.forward\u001b[1;34m(self, source, target)\u001b[0m\n\u001b[0;32m     62\u001b[0m prev_hidden, prev_cell \u001b[38;5;241m=\u001b[39m \u001b[38;5;28mself\u001b[39m\u001b[38;5;241m.\u001b[39mencoder(source)\n\u001b[0;32m     64\u001b[0m prev_target \u001b[38;5;241m=\u001b[39m source[:,\u001b[38;5;241m-\u001b[39m\u001b[38;5;241m1\u001b[39m]\n\u001b[1;32m---> 66\u001b[0m outputs \u001b[38;5;241m=\u001b[39m \u001b[43mtorch\u001b[49m\u001b[38;5;241;43m.\u001b[39;49m\u001b[43mzeros\u001b[49m\u001b[43m(\u001b[49m\u001b[43mbatch_size\u001b[49m\u001b[43m,\u001b[49m\u001b[38;5;28;43mself\u001b[39;49m\u001b[38;5;241;43m.\u001b[39;49m\u001b[43moutput_size\u001b[49m\u001b[43m)\u001b[49m\u001b[38;5;241;43m.\u001b[39;49m\u001b[43mto\u001b[49m\u001b[43m(\u001b[49m\u001b[38;5;28;43mself\u001b[39;49m\u001b[38;5;241;43m.\u001b[39;49m\u001b[43mdevice\u001b[49m\u001b[43m)\u001b[49m\n\u001b[0;32m     68\u001b[0m \u001b[38;5;28;01mfor\u001b[39;00m t \u001b[38;5;129;01min\u001b[39;00m \u001b[38;5;28mrange\u001b[39m(\u001b[38;5;28mself\u001b[39m\u001b[38;5;241m.\u001b[39moutput_size):\n\u001b[0;32m     70\u001b[0m     prediction, prev_hidden, prev_cell \u001b[38;5;241m=\u001b[39m \u001b[38;5;28mself\u001b[39m\u001b[38;5;241m.\u001b[39mdecoder(prev_target, prev_hidden, prev_cell)\n",
      "File \u001b[1;32m~\\AppData\\Local\\Packages\\PythonSoftwareFoundation.Python.3.11_qbz5n2kfra8p0\\LocalCache\\local-packages\\Python311\\site-packages\\torch\\cuda\\__init__.py:293\u001b[0m, in \u001b[0;36m_lazy_init\u001b[1;34m()\u001b[0m\n\u001b[0;32m    291\u001b[0m \u001b[38;5;28;01mif\u001b[39;00m \u001b[38;5;124m\"\u001b[39m\u001b[38;5;124mCUDA_MODULE_LOADING\u001b[39m\u001b[38;5;124m\"\u001b[39m \u001b[38;5;129;01mnot\u001b[39;00m \u001b[38;5;129;01min\u001b[39;00m os\u001b[38;5;241m.\u001b[39menviron:\n\u001b[0;32m    292\u001b[0m     os\u001b[38;5;241m.\u001b[39menviron[\u001b[38;5;124m\"\u001b[39m\u001b[38;5;124mCUDA_MODULE_LOADING\u001b[39m\u001b[38;5;124m\"\u001b[39m] \u001b[38;5;241m=\u001b[39m \u001b[38;5;124m\"\u001b[39m\u001b[38;5;124mLAZY\u001b[39m\u001b[38;5;124m\"\u001b[39m\n\u001b[1;32m--> 293\u001b[0m \u001b[43mtorch\u001b[49m\u001b[38;5;241;43m.\u001b[39;49m\u001b[43m_C\u001b[49m\u001b[38;5;241;43m.\u001b[39;49m\u001b[43m_cuda_init\u001b[49m\u001b[43m(\u001b[49m\u001b[43m)\u001b[49m\n\u001b[0;32m    294\u001b[0m \u001b[38;5;66;03m# Some of the queued calls may reentrantly call _lazy_init();\u001b[39;00m\n\u001b[0;32m    295\u001b[0m \u001b[38;5;66;03m# we need to just return without initializing in that case.\u001b[39;00m\n\u001b[0;32m    296\u001b[0m \u001b[38;5;66;03m# However, we must not let any *other* threads in!\u001b[39;00m\n\u001b[0;32m    297\u001b[0m _tls\u001b[38;5;241m.\u001b[39mis_initializing \u001b[38;5;241m=\u001b[39m \u001b[38;5;28;01mTrue\u001b[39;00m\n",
      "\u001b[1;31mRuntimeError\u001b[0m: Found no NVIDIA driver on your system. Please check that you have an NVIDIA GPU and installed a driver from http://www.nvidia.com/Download/index.aspx"
     ]
    }
   ],
   "source": [
    "from sklearn.preprocessing import MinMaxScaler\n",
    "import torch\n",
    "# Check if CUDA is available\n",
    "if torch.cuda.is_available():\n",
    "    device = torch.device('cuda')\n",
    "else:\n",
    "    device = torch.device('cpu')\n",
    "# Load model in onto the CPU\n",
    "model = torch.load(\"./PairsTradingModel\", map_location=torch.device('cpu'))\n",
    "\n",
    "# Normalization for the data points\n",
    "scaler = MinMaxScaler(feature_range=(0,1))\n",
    "# Start date of data, need to figure out how to make this base on current date\n",
    "start_time = pd.to_datetime(\"2024-02-01\").tz_localize('America/New_York')\n",
    "\n",
    "# HMC data request parameters\n",
    "request_params = StockBarsRequest(\n",
    "    symbol_or_symbols=['TJX'],\n",
    "    timeframe=TimeFrame.Day,\n",
    "    start=start_time\n",
    ")\n",
    "# Request to alpaca\n",
    "bars_df = data_client.get_stock_bars(request_params).df.tz_convert('America/New_York', level=1)\n",
    "# Getting most recent 30 days of data\n",
    "bars_df = bars_df[-30:]\n",
    "# Converting series to a list\n",
    "TJX_30 = torch.tensor(bars_df['close'].tolist())\n",
    "\n",
    "# HYMTF data request parameters\n",
    "request_params = StockBarsRequest(\n",
    "    symbol_or_symbols=['DLTR'],\n",
    "    timeframe=TimeFrame.Day,\n",
    "    start=start_time\n",
    ")\n",
    "# Request to alpaca\n",
    "bars_df = data_client.get_stock_bars(request_params).df.tz_convert('America/New_York', level=1)\n",
    "bars_df = data_client.get_stock_bars(request_params).df.tz_convert('America/New_York', level=1)\n",
    "# Getting most recent 30 days of data\n",
    "bars_df = bars_df[-30:]\n",
    "# Converting series to a list to a torch tensor\n",
    "DLTR_30 = torch.tensor(bars_df['close'].tolist())\n",
    "# Calculating spread between the two stocks\n",
    "DLTR_TJX_SPREAD = TJX_30 - DLTR_30\n",
    "# Normalizing the spread and outputing a tensor\n",
    "input_data = torch.FloatTensor(scaler.fit_transform(DLTR_TJX_SPREAD.reshape(-1,1))).unsqueeze(0).to(device)\n",
    "# Compute predictions of model\n",
    "model.to(device).eval()\n",
    "with torch.inference_mode():\n",
    "    output_data = model(input_data)"
   ]
  },
  {
   "cell_type": "code",
   "execution_count": 77,
   "metadata": {},
   "outputs": [
    {
     "data": {
      "text/plain": [
       "tensor([[[0.0000],\n",
       "         [0.1001],\n",
       "         [0.0938],\n",
       "         [0.0568],\n",
       "         [0.0859],\n",
       "         [0.1461],\n",
       "         [0.1281],\n",
       "         [0.0512],\n",
       "         [0.2514],\n",
       "         [0.3011],\n",
       "         [0.2521],\n",
       "         [0.4146],\n",
       "         [0.3478],\n",
       "         [0.3930],\n",
       "         [0.4539],\n",
       "         [0.4244],\n",
       "         [0.4606],\n",
       "         [0.3325],\n",
       "         [0.3067],\n",
       "         [0.3482],\n",
       "         [0.6410],\n",
       "         [0.6840],\n",
       "         [0.7434],\n",
       "         [0.7800],\n",
       "         [0.7916],\n",
       "         [0.8207],\n",
       "         [0.9518],\n",
       "         [0.9795],\n",
       "         [0.9458],\n",
       "         [1.0000]]])"
      ]
     },
     "execution_count": 77,
     "metadata": {},
     "output_type": "execute_result"
    }
   ],
   "source": [
    "input_data"
   ]
  },
  {
   "cell_type": "code",
   "execution_count": 73,
   "metadata": {},
   "outputs": [
    {
     "data": {
      "text/plain": [
       "tensor([-23.7500, -21.0700, -21.2400, -22.2300, -21.4500, -19.8400, -20.3200,\n",
       "        -22.3800, -17.0200, -15.6900, -17.0000, -12.6500, -14.4400, -13.2300,\n",
       "        -11.6000, -12.3900, -11.4200, -14.8500, -15.5400, -14.4300,  -6.5900,\n",
       "         -5.4400,  -3.8500,  -2.8700,  -2.5600,  -1.7800,   1.7300,   2.4700,\n",
       "          1.5700,   3.0200])"
      ]
     },
     "execution_count": 73,
     "metadata": {},
     "output_type": "execute_result"
    }
   ],
   "source": [
    "# Want to make it so that it allocates half of the capital to the strategy"
   ]
  },
  {
   "cell_type": "code",
   "execution_count": 65,
   "metadata": {},
   "outputs": [
    {
     "data": {
      "text/plain": [
       "symbol  timestamp                \n",
       "DLTR    2024-05-07 00:00:00-04:00   NaN\n",
       "        2024-05-08 00:00:00-04:00   NaN\n",
       "        2024-05-09 00:00:00-04:00   NaN\n",
       "        2024-05-10 00:00:00-04:00   NaN\n",
       "        2024-05-13 00:00:00-04:00   NaN\n",
       "        2024-05-14 00:00:00-04:00   NaN\n",
       "        2024-05-15 00:00:00-04:00   NaN\n",
       "        2024-05-16 00:00:00-04:00   NaN\n",
       "        2024-05-17 00:00:00-04:00   NaN\n",
       "        2024-05-20 00:00:00-04:00   NaN\n",
       "        2024-05-21 00:00:00-04:00   NaN\n",
       "        2024-05-22 00:00:00-04:00   NaN\n",
       "        2024-05-23 00:00:00-04:00   NaN\n",
       "        2024-05-24 00:00:00-04:00   NaN\n",
       "        2024-05-28 00:00:00-04:00   NaN\n",
       "        2024-05-29 00:00:00-04:00   NaN\n",
       "        2024-05-30 00:00:00-04:00   NaN\n",
       "        2024-05-31 00:00:00-04:00   NaN\n",
       "        2024-06-03 00:00:00-04:00   NaN\n",
       "        2024-06-04 00:00:00-04:00   NaN\n",
       "        2024-06-05 00:00:00-04:00   NaN\n",
       "        2024-06-06 00:00:00-04:00   NaN\n",
       "        2024-06-07 00:00:00-04:00   NaN\n",
       "        2024-06-10 00:00:00-04:00   NaN\n",
       "        2024-06-11 00:00:00-04:00   NaN\n",
       "        2024-06-12 00:00:00-04:00   NaN\n",
       "        2024-06-13 00:00:00-04:00   NaN\n",
       "        2024-06-14 00:00:00-04:00   NaN\n",
       "        2024-06-17 00:00:00-04:00   NaN\n",
       "        2024-06-18 00:00:00-04:00   NaN\n",
       "TJX     2024-05-07 00:00:00-04:00   NaN\n",
       "        2024-05-08 00:00:00-04:00   NaN\n",
       "        2024-05-09 00:00:00-04:00   NaN\n",
       "        2024-05-10 00:00:00-04:00   NaN\n",
       "        2024-05-13 00:00:00-04:00   NaN\n",
       "        2024-05-14 00:00:00-04:00   NaN\n",
       "        2024-05-15 00:00:00-04:00   NaN\n",
       "        2024-05-16 00:00:00-04:00   NaN\n",
       "        2024-05-17 00:00:00-04:00   NaN\n",
       "        2024-05-20 00:00:00-04:00   NaN\n",
       "        2024-05-21 00:00:00-04:00   NaN\n",
       "        2024-05-22 00:00:00-04:00   NaN\n",
       "        2024-05-23 00:00:00-04:00   NaN\n",
       "        2024-05-24 00:00:00-04:00   NaN\n",
       "        2024-05-28 00:00:00-04:00   NaN\n",
       "        2024-05-29 00:00:00-04:00   NaN\n",
       "        2024-05-30 00:00:00-04:00   NaN\n",
       "        2024-05-31 00:00:00-04:00   NaN\n",
       "        2024-06-03 00:00:00-04:00   NaN\n",
       "        2024-06-04 00:00:00-04:00   NaN\n",
       "        2024-06-05 00:00:00-04:00   NaN\n",
       "        2024-06-06 00:00:00-04:00   NaN\n",
       "        2024-06-07 00:00:00-04:00   NaN\n",
       "        2024-06-10 00:00:00-04:00   NaN\n",
       "        2024-06-11 00:00:00-04:00   NaN\n",
       "        2024-06-12 00:00:00-04:00   NaN\n",
       "        2024-06-13 00:00:00-04:00   NaN\n",
       "        2024-06-14 00:00:00-04:00   NaN\n",
       "        2024-06-17 00:00:00-04:00   NaN\n",
       "        2024-06-18 00:00:00-04:00   NaN\n",
       "Name: close, dtype: float64"
      ]
     },
     "execution_count": 65,
     "metadata": {},
     "output_type": "execute_result"
    }
   ],
   "source": [
    "# Get data for the day using YAHOO FINANCE and place trades and allocate capital using alpaca, since we are working with daily data"
   ]
  },
  {
   "cell_type": "code",
   "execution_count": null,
   "metadata": {},
   "outputs": [],
   "source": []
  }
 ],
 "metadata": {
  "kernelspec": {
   "display_name": "Python 3 (ipykernel)",
   "language": "python",
   "name": "python3"
  },
  "language_info": {
   "codemirror_mode": {
    "name": "ipython",
    "version": 3
   },
   "file_extension": ".py",
   "mimetype": "text/x-python",
   "name": "python",
   "nbconvert_exporter": "python",
   "pygments_lexer": "ipython3",
   "version": "3.11.9"
  }
 },
 "nbformat": 4,
 "nbformat_minor": 2
}
